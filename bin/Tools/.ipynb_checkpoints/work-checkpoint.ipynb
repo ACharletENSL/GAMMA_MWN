{
 "cells": [
  {
   "cell_type": "code",
   "execution_count": null,
   "metadata": {},
   "outputs": [],
   "source": [
    "from thinshell_analysis import *\n",
    "\n",
    "key = 'sph_fid'\n",
    "func = 'Band'\n",
    "nuobs, Tobs, env = get_radEnv(key)\n",
    "path = get_contribspath(key)\n",
    "nupks, nuFnupks = get_pksnunFnu(key)\n",
    "mRS = -2*0.13176423165558485\n",
    "mFS = 0.02"
   ]
  },
  {
   "cell_type": "code",
   "execution_count": null,
   "metadata": {},
   "outputs": [],
   "source": [
    "def integrand_plan(y):\n",
    "  return y**-2 / (1 + g**2 * (y**-1 - 1))**3\n",
    "\n",
    "\n",
    "def Fnupk_low(tT, k):\n",
    "  xi_max = tT - 1.#g**2/(m+1)\n",
    "  y_eff = 1./(1+2*k*xi_max)\n",
    "  #term_int = integrand_hybrid_y(y_eff, 1., tT, g)\n",
    "  term_int = integrand_plan(y_eff)\n",
    "  return (1-y_eff)*term_int\n",
    "\n",
    "\n",
    "def Fnupk_high(tT):\n",
    "  out = np.ones(tT.shape)\n",
    "  #out *= spi.quad(integrand_plan, 1/3, 1)[0]\n",
    "  for i, tilde_T in enumerate(tT):\n",
    "    quant = spi.quad(integrand_hybrid_y, 1/3., 1., args=(1., tilde_T, g))[0]\n",
    "    out[i] *= quant\n",
    "  return out\n",
    "  "
   ]
  },
  {
   "cell_type": "code",
   "execution_count": null,
   "metadata": {},
   "outputs": [],
   "source": [
    "fig = plt.figure()\n",
    "gs = fig.add_gridspec(2, 1, hspace=0)\n",
    "axs = gs.subplots(sharex='all')\n",
    "for i, sh, istart, T0, m, g, fac_nu, fac_F, col in zip(range(2), ['RS', 'FS'], [2, 0],\n",
    "    [env.T0, env.T0FS], [mRS, mFS], [env.gRS, env.gFS], [1., 1./env.fac_nu], [1., env.fac_F], ['r', 'b']):\n",
    "  df = pd.read_csv(path+sh+'.csv')\n",
    "  row = df.iloc[-2]\n",
    "  t, r, Tej, Tth = row[['time', f'r_{{{sh}}}', f'Tej_{{{sh}}}', f'Tth_{{{sh}}}']]\n",
    "  Tonf = Tej + Tth\n",
    "  tT = 1 + (Tobs - env.Ts)/T0\n",
    "  tTf = 1 + (Tonf - env.Ts)/T0\n",
    "  nuFnupk_low = nupks[i] * Fnupk_low(tT, k=1) / env.nu0\n",
    "  nuFnupk_hgh = nupks[i] * Fnupk_high(tT) / env.nu0\n",
    "\n",
    "  axs[0].loglog(tT[istart:], nupks[i][istart:]/env.nu0, c=col)\n",
    "  axs[0].axvline(tTf, c=col, ls=':')\n",
    "  axs[1].loglog(tT, nuFnupks[i]/env.nu0F0, c=col)\n",
    "  #axs[1].loglog(tT, Fnupk_low(tT, k=1), ls='-.', c='k')\n",
    "  #axs[1].loglog(tT, Fnupk_high(tT), ls=':', c='k')\n",
    "  axs[1].axvline(tTf, c=col, ls=':')\n",
    "\n",
    "axs[0].set_ylabel('$\\\\nu_{pk}/\\\\nu_0$')\n",
    "axs[1].set_xlabel('$\\\\tilde{T}_{sh}$')\n",
    "axs[1].set_ylabel('$\\\\nu_{pk}F_{\\\\nu_{pk}}/\\\\nu_0F_0$')\n",
    "plt.tight_layout()\n",
    "plt.show()"
   ]
  },
  {
   "cell_type": "code",
   "execution_count": null,
   "metadata": {},
   "outputs": [],
   "source": [
    "sh = 'RS'\n",
    "df = pd.read_csv(path+sh+'.csv')\n",
    "row = df.iloc[-2]\n",
    "g = env.gRS\n",
    "m = mRS\n",
    "t, r, Tej, Tth = row[['time', f'r_{{{sh}}}', f'Tej_{{{sh}}}', f'Tth_{{{sh}}}']]\n",
    "Tonf = Tej + Tth\n",
    "tT = 1 + (Tobs - env.Ts)/env.T0\n",
    "tTf = 1 + (Tonf - env.Ts)/env.T0\n",
    "i_f = find_closest(tT, tTf)\n",
    "i_lim = find_closest(df['r_{RS}'].to_numpy(), 1.2*env.R0/c_)\n",
    "Fnupks = (nuFnupks[0]/nupks[0])/env.F0\n",
    "\n",
    "\n",
    "def fitfunc_Fnupk(tT, k, s):\n",
    "  Fnu_low = Fnupk_low(tT, k)\n",
    "  Fnu_hgh = Fnupk_high(tT)\n",
    "  out = (Fnu_low**s + Fnu_hgh**s)**(1/s)\n",
    "  return out\n",
    "\n",
    "sigma = np.ones(i_lim)\n",
    "sigma[-1] = 0.01\n",
    "#popt, pcov = curve_fit(fitfunc_Fnupk, tT[:i_f], Fnupks[:i_f], p0=[1, 1])\n",
    "#Fnu_fit = fitfunc_Fnupk(tT, *popt)\n",
    "popt, pcov = curve_fit(Fnupk_low, tT[:i_lim], Fnupks[:i_lim], p0=[0.1], sigma=sigma)\n",
    "k = popt[0]\n",
    "Fnu_fit = Fnupk_low(tT[:i_f], k)\n",
    "print(k)\n",
    "\n",
    "plt.figure()\n",
    "ax = plt.gca()\n",
    "ax.semilogy(tT[:i_f]-1, Fnupk_low(tT[:i_f], k=.1), ls='-.', c='k')\n",
    "ax.semilogy(tT[:i_f]-1, Fnupk_high(tT[:i_f]), ls='--', c='k')\n",
    "ax.semilogy(tT[:i_f]-1, Fnu_fit, ls='-', c='k')\n",
    "ax.semilogy(tT-1, Fnupks, c='r')\n",
    "ax.set_xlabel('$\\\\bar{T}$')\n",
    "ax.set_ylabel('$F_\\\\nu$')\n",
    "#ax.axvline(tT[i_hlf], ls=':', c='k')\n",
    "#ax.text(tT[i_hlf]-0.8, 10, '$\\\\Delta R/R_0$')"
   ]
  },
  {
   "cell_type": "code",
   "execution_count": null,
   "metadata": {},
   "outputs": [],
   "source": [
    "k=0.1\n",
    "xi_max = tT - 1.#g**2/(m+1)\n",
    "y_eff = 1./(1+2*k*xi_max)\n",
    "  #term_int = integrand_hybrid_y(y_eff, 1., tT, g)\n",
    "term_int = integrand_plan(y_eff)\n",
    "final = (1-y_eff)*term_int\n",
    "\n",
    "plt.figure()\n",
    "ax = plt.gca()\n",
    "ax.plot(tT[tT<=tTf], xi_max[tT<=tTf], label='$\\\\xi_\\\\text{max}$')\n",
    "ax.plot(tT[tT<=tTf], y_eff[tT<=tTf], label='$y_\\\\text{eff}$')\n",
    "ax.plot(tT[tT<=tTf], term_int[tT<=tTf], label='$f(y_\\\\text{eff})$')\n",
    "ax.plot(tT[tT<=tTf], final[tT<=tTf], label='$F_{\\\\nu_\\\\text{pk}}$')\n",
    "ax.set_yscale('symlog')\n",
    "ax.legend()"
   ]
  },
  {
   "cell_type": "code",
   "execution_count": 1,
   "metadata": {},
   "outputs": [],
   "source": [
    "from thinshell_analysis import *\n",
    "key = 'sph_fid'\n",
    "func = 'Band'\n",
    "nuobs, Tobs, env = get_radEnv(key)\n",
    "path = get_contribspath(key)\n",
    "nupks, nuFnupks = get_pksnunFnu(key)"
   ]
  },
  {
   "cell_type": "code",
   "execution_count": 2,
   "metadata": {},
   "outputs": [],
   "source": [
    "sh = 'RS'\n",
    "df = pd.read_csv(path+sh+'.csv')\n",
    "row = df.iloc[-2]\n",
    "g = env.gRS\n",
    "m = -0.26\n",
    "tf, rf, Tej, Tth = row[['time', f'r_{{{sh}}}', f'Tej_{{{sh}}}', f'Tth_{{{sh}}}']]\n",
    "Tonf = Tej + Tth\n",
    "tT = 1 + (Tobs - env.Ts)/env.T0\n",
    "tTf = 1 + (Tonf - env.Ts)/env.T0\n",
    "i_f = find_closest(tT, tTf)\n",
    "nu = nupks[0]/env.nu0\n",
    "nuFnu = nuFnupks[0]/env.nu0F0"
   ]
  },
  {
   "cell_type": "code",
   "execution_count": 3,
   "metadata": {},
   "outputs": [],
   "source": [
    "def nupk_ofxi(xi, tT, d):\n",
    "  return (1+xi)**-1 * (1+g**-2*xi)**-d * tT**d\n",
    "\n",
    "def fit_nupk_rise1(tT, d, k):\n",
    "  xi = k * (g**2/(m+1)) * (tT-1)\n",
    "  return nupk_ofxi(xi, tT, d)\n",
    "\n",
    "def fit_nupk_rise2(tT, d, k):\n",
    "  xi = k \n",
    "  return nupk_ofxi(xi, tT, d)\n",
    "\n",
    "def fit_nupk_rise(tT, d, k):\n",
    "  xi = k * (g**2/(m+1)) * (tT-1)\n",
    "  xi_eff = np.where(xi<=k, xi, k)\n",
    "  return nupk_ofxi(xi_eff, tT, d)\n",
    "\n",
    "def fit_nupk_rise_2d(tT, d1, d2, k):\n",
    "  xi = k * (g**2/(m+1)) * (tT-1)\n",
    "  return np.where(xi<=k, fit_nupk_rise1(tT, d1, k), fit_nupk_rise2(tT, d2, k))\n",
    "\n"
   ]
  },
  {
   "cell_type": "code",
   "execution_count": 4,
   "metadata": {},
   "outputs": [
    {
     "name": "stdout",
     "output_type": "stream",
     "text": [
      "[-1.87358893e+00 -1.86302403e+00  6.95721057e-08]\n"
     ]
    }
   ],
   "source": [
    "popt, pcov = curve_fit(fit_nupk_rise_2d, tT[2:i_f], nu[2:i_f], p0=[-2, -1.9, 0.05])\n",
    "print(popt)\n",
    "d1, d2, k1 = popt\n",
    "nu_rise = fit_nupk_rise_2d(tT[:i_f], *popt)\n",
    "\n",
    "# plt.figure()\n",
    "# plt.semilogy(tT[2:i_f], nu[2:i_f], c='r', label='data, RS')\n",
    "# plt.semilogy(tT[:i_f], nu_rise[:i_f], c='k', ls=':', label=f'd1={d1:.2f}, d2={d2:.2f}, k={k1:.2f}')\n",
    "# plt.legend()\n",
    "# plt.show()\n"
   ]
  },
  {
   "cell_type": "code",
   "execution_count": 5,
   "metadata": {},
   "outputs": [
    {
     "name": "stdout",
     "output_type": "stream",
     "text": [
      "[-0.94186392]\n"
     ]
    }
   ],
   "source": [
    "def get_tTeff2(tT):\n",
    "  return 1. + np.abs((m+1+g**2)/(g**2*(g**2-1)))  * (rf*c_/env.R0)**-(m+1) * (tT-1.)\n",
    "\n",
    "def fit_nupk_HLE(tT, d):\n",
    "  tTeff2 = get_tTeff2(tT)\n",
    "  nuf = fit_nupk_rise_2d(tTf, d1, d2, k1)\n",
    "  return nuf * (tTeff2/tTeff2[0])**d\n",
    "\n",
    "popt, pcov = curve_fit(fit_nupk_HLE, tT[i_f:], nu[i_f:], p0=[2])\n",
    "d3 = popt[0]\n",
    "print(popt)\n",
    "nu_HLE = fit_nupk_HLE(tT[i_f:], *popt)\n",
    "\n",
    "# plt.figure()\n",
    "# plt.semilogy(tT, nu, c='r', label='data, RS')\n",
    "# plt.semilogy(tT[i_f:], nu_HLE, c='k', ls=':', label=f'd={d3:.2f}')\n",
    "# plt.legend()\n",
    "# plt.show()\n"
   ]
  },
  {
   "cell_type": "code",
   "execution_count": 6,
   "metadata": {},
   "outputs": [],
   "source": [
    "plt.figure()\n",
    "plt.semilogy(tT[2:], nu[2:], c='r', label='data, RS')\n",
    "plt.semilogy(tT[:i_f], nu_rise, c='k', ls='-.', label=f'd1={d1:.2f}, d2={d2:.2f}, k={k1:.2f}')\n",
    "plt.semilogy(tT[i_f:], nu_HLE, c='k', ls=':', label=f'd3={d3:.2f}')\n",
    "plt.legend()\n",
    "plt.show()"
   ]
  },
  {
   "cell_type": "code",
   "execution_count": 7,
   "metadata": {},
   "outputs": [],
   "source": [
    "def integ(x):\n",
    "  return x**-4 * Band_func(x)\n",
    "\n",
    "def fit_nuFnupk_rise1(tT, k):\n",
    "  xi_m = (g**2/(m+1)) * (tT - 1)\n",
    "  return xi_m * integ(1+k*xi_m)\n",
    "\n",
    "def fit_nuFnupk_rise2(tT, k):\n",
    "  quant = spi.quad(integ, 1, 1+k)[0]\n",
    "  return (quant/k) * np.ones(tT.shape)\n",
    "\n",
    "def fit_nuFnupk_rise(tT, k, s):\n",
    "  nuFnu1 = fit_nuFnupk_rise1(tT, k)\n",
    "  nuFnu2 = fit_nuFnupk_rise2(tT, k)\n",
    "  return (nuFnu1**s + nuFnu2**s)**(1/s)\n",
    "\n",
    "def fit_nuFnupk_rise_2k(tT, k1, k2, s):\n",
    "  nuFnu1 = fit_nuFnupk_rise1(tT, k1)\n",
    "  nuFnu2 = fit_nuFnupk_rise2(tT, k2)\n",
    "  return (nuFnu1**s + nuFnu2**s)**(1/s)"
   ]
  },
  {
   "cell_type": "code",
   "execution_count": 8,
   "metadata": {},
   "outputs": [
    {
     "name": "stdout",
     "output_type": "stream",
     "text": [
      "[-0.30792634  0.16654591 -1.41732418]\n"
     ]
    },
    {
     "name": "stderr",
     "output_type": "stream",
     "text": [
      "/tmp/ipykernel_32049/876968064.py:20: RuntimeWarning: divide by zero encountered in power\n",
      "  return (nuFnu1**s + nuFnu2**s)**(1/s)\n"
     ]
    }
   ],
   "source": [
    "popt, pcov = curve_fit(fit_nuFnupk_rise_2k, tT[:i_f], nuFnu[:i_f], p0=[0.1, 0.1, 3])\n",
    "k3, k4, s = popt\n",
    "print(popt)\n",
    "nuFnu_rise = fit_nuFnupk_rise_2k(tT[:i_f], *popt)\n",
    "\n",
    "plt.figure()\n",
    "plt.semilogy(tT[:i_f], nuFnu[:i_f], c='r', label='data, RS')\n",
    "plt.semilogy(tT[:i_f], nuFnu_rise, c='k', ls=':', label=f'k3={k3:.2f}, k4={k4:.2f}, s={s:.2f}')\n",
    "plt.legend()\n",
    "plt.show()"
   ]
  },
  {
   "cell_type": "code",
   "execution_count": 12,
   "metadata": {},
   "outputs": [
    {
     "ename": "",
     "evalue": "",
     "output_type": "error",
     "traceback": [
      "\u001b[1;31mThe Kernel crashed while executing code in the current cell or a previous cell. \n",
      "\u001b[1;31mPlease review the code in the cell(s) to identify a possible cause of the failure. \n",
      "\u001b[1;31mClick <a href='https://aka.ms/vscodeJupyterKernelCrash'>here</a> for more info. \n",
      "\u001b[1;31mView Jupyter <a href='command:jupyter.viewOutput'>log</a> for further details."
     ]
    }
   ],
   "source": [
    "def fit_nuFnupk_HLE(tT, d):\n",
    "  nuFnupkf = fit_nuFnupk_rise_2k(tTf, k3, k4, s)\n",
    "  tTeff2 = get_tTeff2(tT)\n",
    "  return nuFnupkf * (tTeff2/tTeff2[0])**d\n",
    "\n",
    "popt, pcov = curve_fit(fit_nuFnupk_HLE, tT[i_f:], nuFnu[i_f:], p0=[-3])\n",
    "d4 = popt[0]\n",
    "nuFnu_HLE = fit_nuFnupk_HLE(tT[i_f:], *popt)\n",
    "\n",
    "plt.figure()\n",
    "plt.semilogy(tT[i_f:], nuFnu[i_f:], c='r', label='data, RS')\n",
    "plt.semilogy(tT[i_f:], nuFnu_HLE, c='k', ls=':', label=f'd4={d4:.2f}')\n",
    "plt.legend()\n",
    "plt.show()"
   ]
  },
  {
   "cell_type": "code",
   "execution_count": null,
   "metadata": {},
   "outputs": [],
   "source": [
    "def plot_test(k, s):\n",
    "  tT_s = tT[:i_f]\n",
    "  plt.figure()\n",
    "  plt.semilogy(tT_s, nuFnu[:i_f], c='r')\n",
    "  plt.semilogy(tT_s, fit_nuFnupk_rise1(tT_s, k), ls=':', c='k', label='1')\n",
    "  plt.semilogy(tT_s, fit_nuFnupk_rise2(tT_s, k), ls='-.', c='k', label='2')\n",
    "  plt.semilogy(tT_s, fit_nuFnupk_rise(tT_s, k, s), ls='-', c='k', lw=.9, label='$(1^s+2^s)^{1/s}$'+f', s={s}')\n",
    "  plt.legend()"
   ]
  },
  {
   "cell_type": "code",
   "execution_count": 3,
   "metadata": {},
   "outputs": [
    {
     "ename": "ValueError",
     "evalue": "`ydata` must not be empty!",
     "output_type": "error",
     "traceback": [
      "\u001b[0;31m---------------------------------------------------------------------------\u001b[0m",
      "\u001b[0;31mValueError\u001b[0m                                Traceback (most recent call last)",
      "Cell \u001b[0;32mIn[3], line 47\u001b[0m\n\u001b[1;32m     45\u001b[0m   xi \u001b[38;5;241m=\u001b[39m k \u001b[38;5;241m*\u001b[39m (g\u001b[38;5;241m*\u001b[39m\u001b[38;5;241m*\u001b[39m\u001b[38;5;241m2\u001b[39m\u001b[38;5;241m/\u001b[39m(m\u001b[38;5;241m+\u001b[39m\u001b[38;5;241m1\u001b[39m)) \u001b[38;5;241m*\u001b[39m (tT\u001b[38;5;241m-\u001b[39m\u001b[38;5;241m1\u001b[39m)\n\u001b[1;32m     46\u001b[0m   \u001b[38;5;28;01mreturn\u001b[39;00m np\u001b[38;5;241m.\u001b[39mwhere(xi\u001b[38;5;241m<\u001b[39m\u001b[38;5;241m=\u001b[39mk, fit_nupk_rise1(tT, d1, k), fit_nupk_rise2(tT, d2, k))\n\u001b[0;32m---> 47\u001b[0m popt, pcov \u001b[38;5;241m=\u001b[39m \u001b[43mcurve_fit\u001b[49m\u001b[43m(\u001b[49m\u001b[43mfit_nupk_rise_2d\u001b[49m\u001b[43m,\u001b[49m\u001b[43m \u001b[49m\u001b[43mtT\u001b[49m\u001b[43m[\u001b[49m\u001b[38;5;241;43m2\u001b[39;49m\u001b[43m:\u001b[49m\u001b[43mi_f\u001b[49m\u001b[43m]\u001b[49m\u001b[43m,\u001b[49m\u001b[43m \u001b[49m\u001b[43mnu\u001b[49m\u001b[43m[\u001b[49m\u001b[38;5;241;43m2\u001b[39;49m\u001b[43m:\u001b[49m\u001b[43mi_f\u001b[49m\u001b[43m]\u001b[49m\u001b[43m,\u001b[49m\u001b[43m \u001b[49m\u001b[43mp0\u001b[49m\u001b[38;5;241;43m=\u001b[39;49m\u001b[43m[\u001b[49m\u001b[38;5;241;43m-\u001b[39;49m\u001b[38;5;241;43m2\u001b[39;49m\u001b[43m,\u001b[49m\u001b[43m \u001b[49m\u001b[38;5;241;43m-\u001b[39;49m\u001b[38;5;241;43m1.9\u001b[39;49m\u001b[43m,\u001b[49m\u001b[43m \u001b[49m\u001b[38;5;241;43m0.05\u001b[39;49m\u001b[43m]\u001b[49m\u001b[43m)\u001b[49m\n\u001b[1;32m     48\u001b[0m d1, d2, k1 \u001b[38;5;241m=\u001b[39m popt\n\u001b[1;32m     49\u001b[0m nu_rise \u001b[38;5;241m=\u001b[39m fit_nupk_rise_2d(tT[:i_f], \u001b[38;5;241m*\u001b[39mpopt)\n",
      "File \u001b[0;32m/usr/lib/python3.12/site-packages/scipy/optimize/_minpack_py.py:945\u001b[0m, in \u001b[0;36mcurve_fit\u001b[0;34m(f, xdata, ydata, p0, sigma, absolute_sigma, check_finite, bounds, method, jac, full_output, nan_policy, **kwargs)\u001b[0m\n\u001b[1;32m    942\u001b[0m         xdata \u001b[38;5;241m=\u001b[39m np\u001b[38;5;241m.\u001b[39masarray(xdata, \u001b[38;5;28mfloat\u001b[39m)\n\u001b[1;32m    944\u001b[0m \u001b[38;5;28;01mif\u001b[39;00m ydata\u001b[38;5;241m.\u001b[39msize \u001b[38;5;241m==\u001b[39m \u001b[38;5;241m0\u001b[39m:\n\u001b[0;32m--> 945\u001b[0m     \u001b[38;5;28;01mraise\u001b[39;00m \u001b[38;5;167;01mValueError\u001b[39;00m(\u001b[38;5;124m\"\u001b[39m\u001b[38;5;124m`ydata` must not be empty!\u001b[39m\u001b[38;5;124m\"\u001b[39m)\n\u001b[1;32m    947\u001b[0m \u001b[38;5;66;03m# nan handling is needed only if check_finite is False because if True,\u001b[39;00m\n\u001b[1;32m    948\u001b[0m \u001b[38;5;66;03m# the x-y data are already checked, and they don't contain nans.\u001b[39;00m\n\u001b[1;32m    949\u001b[0m \u001b[38;5;28;01mif\u001b[39;00m \u001b[38;5;129;01mnot\u001b[39;00m check_finite \u001b[38;5;129;01mand\u001b[39;00m nan_policy \u001b[38;5;129;01mis\u001b[39;00m \u001b[38;5;129;01mnot\u001b[39;00m \u001b[38;5;28;01mNone\u001b[39;00m:\n",
      "\u001b[0;31mValueError\u001b[0m: `ydata` must not be empty!"
     ]
    }
   ],
   "source": [
    "from thinshell_analysis import *\n",
    "key = 'sph_fid'\n",
    "func = 'Band'\n",
    "nuobs, Tobs, env = get_radEnv(key)\n",
    "path = get_contribspath(key)\n",
    "nupks, nuFnupks = get_pksnunFnu(key)\n",
    "Tb = (Tobs-env.Ts)/env.T0\n",
    "\n",
    "shocks = ['RS', 'FS']\n",
    "cols = ['r', 'b']\n",
    "g_vals = [env.gRS, env.gFS]\n",
    "m_vals = [-0.26, 0.02]\n",
    "norms_nu = [env.nu0, env.nu0FS]\n",
    "norms_nuF = [env.nu0F0, env.nu0F0FS]\n",
    "norms_T = [env.T0, env.T0FS]\n",
    "\n",
    "fig = plt.figure()\n",
    "gs = fig.add_gridspec(2, 1, hspace=0)\n",
    "axs = gs.subplots(sharex='all')\n",
    "ax_nu, ax_nF = axs\n",
    "ax_nu.set_ylabel('$\\\\nu_{pk}/\\\\nu_0$')\n",
    "ax_nF.set_ylabel('$\\\\nu_{pk}F_{\\\\nu_{pk}}/\\\\nu_0F_0$')\n",
    "ax_nF.set_xlabel('$\\\\bar{T}_{RS}$')\n",
    "\n",
    "for sh, nu, nuFnu, g, m, T0, norm_nu, norm_nuF, col in zip(shocks, nupks, nuFnupks, g_vals, m_vals, norms_T, norms_nu, norms_nuF, cols):\n",
    "  df = pd.read_csv(path+sh+'.csv')\n",
    "  row = df.iloc[-2]\n",
    "  tf, rf, Tej, Tth = row[['time', f'r_{{{sh}}}', f'Tej_{{{sh}}}', f'Tth_{{{sh}}}']]\n",
    "  Tonf = Tej + Tth\n",
    "  tT = 1 + (Tobs - env.Ts)/T0\n",
    "  tTf = 1 + (Tonf - env.Ts)/T0\n",
    "  i_f = find_closest(tT, tTf)\n",
    "  nu = nupks/norm_nu\n",
    "  nuFnu = nuFnupks/norm_nuF\n",
    "\n",
    "  def nupk_ofxi(xi, tT, d):\n",
    "    return (1+xi)**-1 * (1+g**-2*xi)**-d * tT**d\n",
    "  def fit_nupk_rise1(tT, d, k):\n",
    "    xi = k * (g**2/(m+1)) * (tT-1)\n",
    "    return nupk_ofxi(xi, tT, d)\n",
    "  def fit_nupk_rise2(tT, d, k):\n",
    "    xi = k \n",
    "    return nupk_ofxi(xi, tT, d)\n",
    "  def fit_nupk_rise_2d(tT, d1, d2, k):\n",
    "    xi = k * (g**2/(m+1)) * (tT-1)\n",
    "    return np.where(xi<=k, fit_nupk_rise1(tT, d1, k), fit_nupk_rise2(tT, d2, k))\n",
    "  popt, pcov = curve_fit(fit_nupk_rise_2d, tT[2:i_f], nu[2:i_f], p0=[-2, -1.9, 0.05])\n",
    "  d1, d2, k1 = popt\n",
    "  nu_rise = fit_nupk_rise_2d(tT[:i_f], *popt)\n",
    "\n",
    "  def get_tTeff2(tT):\n",
    "    return 1. + np.abs((m+1+g**2)/(g**2*(g**2-1)))  * (rf*c_/env.R0)**-(m+1) * (tT-1.)\n",
    "  def fit_nupk_HLE(tT, d):\n",
    "    tTeff2 = get_tTeff2(tT)\n",
    "    nuf = fit_nupk_rise_2d(tTf, d1, d2, k1)\n",
    "    return nuf * (tTeff2/tTeff2[0])**d\n",
    "  popt, pcov = curve_fit(fit_nupk_HLE, tT[i_f:], nu[i_f:], p0=[2])\n",
    "  d3 = popt[0]\n",
    "  nu_HLE = fit_nupk_HLE(tT[i_f:], *popt)\n",
    "  nu_fit = np.concatenate((nu_rise, nu_HLE), axis=None)\n",
    "\n",
    "  def integ(x):\n",
    "    return x**-4 * Band_func(x)\n",
    "  def fit_nuFnupk_rise1(tT, k):\n",
    "    xi_m = (g**2/(m+1)) * (tT - 1)\n",
    "    return xi_m * integ(1+k*xi_m)\n",
    "  def fit_nuFnupk_rise2(tT, k):\n",
    "    quant = spi.quad(integ, 1, 1+k)[0]\n",
    "    return (quant/k) * np.ones(tT.shape)\n",
    "  def fit_nuFnupk_rise_2k(tT, k1, k2, s):\n",
    "    nuFnu1 = fit_nuFnupk_rise1(tT, k1)\n",
    "    nuFnu2 = fit_nuFnupk_rise2(tT, k2)\n",
    "    return (nuFnu1**s + nuFnu2**s)**(1/s)\n",
    "  popt, pcov = curve_fit(fit_nuFnupk_rise_2k, tT[:i_f], nuFnu[:i_f], p0=[0.1, 0.1, 3])\n",
    "  k3, k4, s = popt\n",
    "  nuFnu_rise = fit_nuFnupk_rise_2k(tT[:i_f], *popt)\n",
    "  def fit_nuFnupk_HLE(tT, d):\n",
    "    nuFnupkf = fit_nuFnupk_rise_2k(tTf, k3, k4, s)\n",
    "    tTeff2 = get_tTeff2(tT)\n",
    "    return nuFnupkf * (tTeff2/tTeff2[0])**d\n",
    "  popt, pcov = curve_fit(fit_nuFnupk_HLE, tT[i_f:], nuFnu[i_f:], p0=[-3])\n",
    "  d4 = popt[0]\n",
    "  nuFnu_HLE = fit_nuFnupk_HLE(tT[i_f:], *popt)\n",
    "  nuFnu_fit = np.concatenate((nuFnu_rise, nuFnu_HLE), axis=None)\n",
    "\n",
    "  print(f'nu_{sh}: d1, d2, d3 = {d1:.2f}, {d2:.2f}, {d3:.2f}; k1 = {k1:.2f}')\n",
    "  print(f'nuFnu_{sh}: k2, k3 = {k2:.2f}, {k3:.2f}; s = {s:.2f}; d4 = {d4:.2f}')\n",
    "\n",
    "  fac_nu = 1/env.fac_nu if sh=='FS' else 1.\n",
    "  fac_nF = env.fac_F*fac_nu if sh=='FS' else 1.\n",
    "  ax_nu.semilogy(Tb, nupks/env.nu0, c=col)\n",
    "  ax_nu.semilogy(Tb, nu_fit*fac_nu, ls=':', c='k')\n",
    "  ax_nF.semilogy(Tb, nuFnupks/env.nu0F0, c=col)\n",
    "  ax_nF.semilogy(Tb, nuFnu_fit*fac_nF, ls=':', c='k')\n",
    "\n",
    "plt.show()"
   ]
  },
  {
   "cell_type": "code",
   "execution_count": null,
   "metadata": {},
   "outputs": [],
   "source": []
  }
 ],
 "metadata": {
  "kernelspec": {
   "display_name": "Python 3",
   "language": "python",
   "name": "python3"
  },
  "language_info": {
   "codemirror_mode": {
    "name": "ipython",
    "version": 3
   },
   "file_extension": ".py",
   "mimetype": "text/x-python",
   "name": "python",
   "nbconvert_exporter": "python",
   "pygments_lexer": "ipython3",
   "version": "3.12.5"
  }
 },
 "nbformat": 4,
 "nbformat_minor": 2
}
