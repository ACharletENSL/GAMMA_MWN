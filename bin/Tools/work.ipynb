{
 "cells": [
  {
   "cell_type": "code",
   "execution_count": 1,
   "metadata": {},
   "outputs": [],
   "source": [
    "from thinshell_analysis import *\n",
    "key = 'sph_big'\n",
    "func = 'Band'\n",
    "nuobs, Tobs, env = get_radEnv(key)\n",
    "nuFnus = nuFnu_thinshell_run(key, nuobs, Tobs, env, func)\n",
    "Tb = (Tobs - env.Ts)/env.T0"
   ]
  }
 ],
 "metadata": {
  "kernelspec": {
   "display_name": "Python 3",
   "language": "python",
   "name": "python3"
  },
  "language_info": {
   "codemirror_mode": {
    "name": "ipython",
    "version": 3
   },
   "file_extension": ".py",
   "mimetype": "text/x-python",
   "name": "python",
   "nbconvert_exporter": "python",
   "pygments_lexer": "ipython3",
   "version": "3.12.5"
  }
 },
 "nbformat": 4,
 "nbformat_minor": 2
}
